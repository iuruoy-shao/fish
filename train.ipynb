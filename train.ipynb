{
 "cells": [
  {
   "cell_type": "code",
   "execution_count": 1,
   "metadata": {},
   "outputs": [],
   "source": [
    "from agent import QLearningAgent\n",
    "from verify_data import FishGame, ParseError"
   ]
  },
  {
   "cell_type": "code",
   "execution_count": 2,
   "metadata": {},
   "outputs": [
    {
     "name": "stdout",
     "output_type": "stream",
     "text": [
      "12-3_15:27.txt\n",
      "12-10_11:07.txt\n",
      "12-3_14:05.txt\n",
      "12-3_11:30.txt\n",
      "12-3_14:27.txt\n",
      "12-6_11:08.txt\n",
      "12-3_11:12.txt\n",
      "12-4_11:11.txt\n",
      "1-15_11:15.txt\n"
     ]
    }
   ],
   "source": [
    "import os\n",
    "\n",
    "memories = []\n",
    "for filename in os.listdir('data'):\n",
    "    filepath = os.path.join('data', filename)\n",
    "    with open(filepath, 'r') as f:\n",
    "        try:\n",
    "            print(f\"{filename}\")\n",
    "            game = FishGame(f.readlines())\n",
    "            for player in game.players:\n",
    "                memories += game.memory(player)\n",
    "        except ParseError as e:\n",
    "            print(f\"{filename}: {e}\")\n",
    "            break"
   ]
  },
  {
   "cell_type": "code",
   "execution_count": 3,
   "metadata": {},
   "outputs": [],
   "source": [
    "split = round(len(memories) * .8)\n",
    "train_memories = memories[:split]\n",
    "test_memories = memories[split:]"
   ]
  },
  {
   "cell_type": "code",
   "execution_count": 4,
   "metadata": {
    "notebookRunGroups": {
     "groupValue": "2"
    }
   },
   "outputs": [
    {
     "name": "stderr",
     "output_type": "stream",
     "text": [
      "/Users/Yourui/Documents/Fish/.env/lib/python3.13/site-packages/torch/optim/lr_scheduler.py:62: UserWarning: The verbose parameter is deprecated. Please use get_last_lr() to access the learning rate.\n",
      "  warnings.warn(\n",
      "/Users/Yourui/Documents/Fish/agent.py:76: UserWarning: Creating a tensor from a list of numpy.ndarrays is extremely slow. Please consider converting the list to a single numpy.ndarray with numpy.array() before converting to a tensor. (Triggered internally at /Users/runner/work/pytorch/pytorch/pytorch/torch/csrc/utils/tensor_new.cpp:257.)\n",
      "  return torch.FloatTensor(x).to(self.device)\n",
      "/Users/Yourui/Documents/Fish/agent.py:51: UserWarning: Implicit dimension choice for softmax has been deprecated. Change the call to include dim=X as an argument.\n",
      "  'ask_card': F.softmax(ask_card),\n"
     ]
    },
    {
     "name": "stdout",
     "output_type": "stream",
     "text": [
      "epoch 0, train loss 0.04725, test loss 0.03354, lr 0.001\n",
      "epoch 1, train loss 0.03483, test loss 0.02885, lr 0.001\n",
      "epoch 2, train loss 0.03211, test loss 0.03778, lr 0.001\n",
      "epoch 3, train loss 0.02985, test loss 0.02896, lr 0.001\n",
      "epoch 4, train loss 0.03288, test loss 0.03621, lr 0.001\n",
      "epoch 5, train loss 0.02859, test loss 0.01978, lr 0.001\n",
      "epoch 6, train loss 0.03128, test loss 0.01878, lr 0.001\n",
      "epoch 7, train loss 0.02241, test loss 0.03685, lr 0.001\n",
      "epoch 8, train loss 0.02132, test loss 0.03065, lr 0.001\n",
      "epoch 9, train loss 0.02441, test loss 0.03095, lr 0.001\n",
      "epoch 10, train loss 0.02258, test loss 0.02919, lr 0.001\n",
      "epoch 11, train loss 0.02067, test loss 0.03244, lr 0.001\n",
      "epoch 12, train loss 0.02115, test loss 0.02941, lr 0.001\n",
      "epoch 13, train loss 0.01843, test loss 0.03253, lr 0.001\n",
      "epoch 14, train loss 0.01665, test loss 0.02964, lr 0.001\n",
      "epoch 15, train loss 0.01596, test loss 0.02973, lr 0.001\n",
      "epoch 16, train loss 0.01584, test loss 0.02965, lr 0.001\n",
      "epoch 17, train loss 0.01669, test loss 0.03191, lr 0.001\n",
      "epoch 18, train loss 0.01566, test loss 0.02948, lr 0.001\n",
      "epoch 19, train loss 0.01614, test loss 0.03039, lr 0.001\n"
     ]
    }
   ],
   "source": [
    "agent = QLearningAgent()\n",
    "agent.train_on_data(train_memories, test_memories, 20)"
   ]
  },
  {
   "cell_type": "code",
   "execution_count": 7,
   "metadata": {},
   "outputs": [
    {
     "name": "stdout",
     "output_type": "stream",
     "text": [
      "Model saved to models/fish_agent_20250325_203048.pth\n"
     ]
    }
   ],
   "source": [
    "import os\n",
    "from datetime import datetime\n",
    "\n",
    "os.makedirs('models', exist_ok=True)\n",
    "model_path = f'models/fish_agent_{datetime.now().strftime(\"%Y%m%d_%H%M%S\")}.pth'\n",
    "agent.save_model(model_path)"
   ]
  },
  {
   "cell_type": "code",
   "execution_count": 8,
   "metadata": {},
   "outputs": [
    {
     "data": {
      "text/plain": [
       "True"
      ]
     },
     "execution_count": 8,
     "metadata": {},
     "output_type": "execute_result"
    }
   ],
   "source": [
    "agent = QLearningAgent() \n",
    "agent.load_model('models/fish_agent_20250319_123306.pth')"
   ]
  },
  {
   "cell_type": "code",
   "execution_count": 9,
   "metadata": {},
   "outputs": [
    {
     "data": {
      "text/plain": [
       "{'call': tensor([[0.3735, 0.6265]], device='mps:0', grad_fn=<SoftmaxBackward0>),\n",
       " 'call_set': tensor([[0.0683, 0.3328, 0.1711, 0.0416, 0.1856, 0.0393, 0.1124, 0.0488, 0.0000]],\n",
       "        device='mps:0', grad_fn=<SoftmaxBackward0>),\n",
       " 'call_cards': tensor([[[0.2083, 0.2714, 0.2998, 0.2205],\n",
       "          [0.1354, 0.2199, 0.3274, 0.3173],\n",
       "          [0.4047, 0.3686, 0.0762, 0.1506],\n",
       "          [0.1540, 0.3419, 0.0747, 0.4293],\n",
       "          [0.3549, 0.1006, 0.3225, 0.2219],\n",
       "          [0.1586, 0.2986, 0.3635, 0.1793]]], device='mps:0',\n",
       "        grad_fn=<SoftmaxBackward0>),\n",
       " 'ask_person': tensor([[0.2090, 0.1333, 0.6202, 0.0376]], device='mps:0',\n",
       "        grad_fn=<SoftmaxBackward0>),\n",
       " 'ask_set': tensor([[0.0000, 0.1338, 0.0000, 0.6462, 0.0475, 0.1345, 0.0380, 0.0000, 0.0000]],\n",
       "        device='mps:0', grad_fn=<SoftmaxBackward0>),\n",
       " 'ask_card': tensor([[2.7193e-01, 9.0935e-02, 6.2667e-01, 3.1250e-06, 1.6242e-06, 1.0456e-02]],\n",
       "        device='mps:0', grad_fn=<SoftmaxBackward0>)}"
      ]
     },
     "execution_count": 9,
     "metadata": {},
     "output_type": "execute_result"
    }
   ],
   "source": [
    "game = FishGame(open('data/1-15_11:15.txt', 'r').readlines())\n",
    "player = 'PB'\n",
    "test_data = agent.unpack_batch(game.memory(player)[1:2])\n",
    "agent.q_network(agent.tensor(test_data['state']), \n",
    "                agent.action_masks(*test_data['mask_dep'].values()))"
   ]
  }
 ],
 "metadata": {
  "kernelspec": {
   "display_name": ".env",
   "language": "python",
   "name": "python3"
  },
  "language_info": {
   "codemirror_mode": {
    "name": "ipython",
    "version": 3
   },
   "file_extension": ".py",
   "mimetype": "text/x-python",
   "name": "python",
   "nbconvert_exporter": "python",
   "pygments_lexer": "ipython3",
   "version": "3.13.2"
  }
 },
 "nbformat": 4,
 "nbformat_minor": 2
}
