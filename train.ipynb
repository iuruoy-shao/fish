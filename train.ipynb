{
 "cells": [
  {
   "cell_type": "code",
   "execution_count": 1,
   "metadata": {},
   "outputs": [],
   "source": [
    "from nn import QLearningAgent, QNetwork\n",
    "from verify_data import FishGame, ParseError"
   ]
  },
  {
   "cell_type": "code",
   "execution_count": 2,
   "metadata": {},
   "outputs": [
    {
     "name": "stdout",
     "output_type": "stream",
     "text": [
      "12-10_11:07.txt\n",
      "12-3_14:05.txt\n",
      "12-3_11:30.txt\n",
      "12-3_14:27.txt\n",
      "12-6_11:08.txt\n",
      "12-3_11:12.txt\n",
      "1-15_11:15.txt\n"
     ]
    }
   ],
   "source": [
    "import os\n",
    "\n",
    "memories = []\n",
    "for filename in os.listdir('data'):\n",
    "    filepath = os.path.join('data', filename)\n",
    "    with open(filepath, 'r') as f:\n",
    "        try:\n",
    "            print(f\"{filename}\")\n",
    "            game = FishGame(f.readlines())\n",
    "            for player in game.players:\n",
    "                memories += game.memory(player)\n",
    "        except ParseError as e:\n",
    "            print(f\"{filename}: {e}\")\n",
    "            break"
   ]
  },
  {
   "cell_type": "code",
   "execution_count": 3,
   "metadata": {},
   "outputs": [],
   "source": [
    "# with open('data/1-15_11:15.txt', 'r') as f:\n",
    "    # game = FishGame(f.readlines())"
   ]
  },
  {
   "cell_type": "code",
   "execution_count": null,
   "metadata": {},
   "outputs": [
    {
     "name": "stderr",
     "output_type": "stream",
     "text": [
      "/Users/Yourui/Documents/Fish/.env/lib/python3.13/site-packages/torch/optim/lr_scheduler.py:62: UserWarning: The verbose parameter is deprecated. Please use get_last_lr() to access the learning rate.\n",
      "  warnings.warn(\n",
      "/Users/Yourui/Documents/Fish/nn.py:64: UserWarning: Creating a tensor from a list of numpy.ndarrays is extremely slow. Please consider converting the list to a single numpy.ndarray with numpy.array() before converting to a tensor. (Triggered internally at /Users/runner/work/pytorch/pytorch/pytorch/torch/csrc/utils/tensor_new.cpp:257.)\n",
      "  return torch.FloatTensor(x).to(self.device)\n",
      "/Users/Yourui/Documents/Fish/nn.py:38: UserWarning: Implicit dimension choice for softmax has been deprecated. Change the call to include dim=X as an argument.\n",
      "  'ask_card': F.softmax(ask_card),\n",
      "/Users/Yourui/Documents/Fish/nn.py:85: UserWarning: Using a target size (torch.Size([1])) that is different to the input size (torch.Size([])). This will likely lead to incorrect results due to broadcasting. Please ensure they have the same size.\n",
      "  loss = lambda prev, max_q_next, player, reward: F.mse_loss(sum(prev * player),\n",
      "/Users/Yourui/Documents/Fish/nn.py:85: UserWarning: Using a target size (torch.Size([1])) that is different to the input size (torch.Size([4])). This will likely lead to incorrect results due to broadcasting. Please ensure they have the same size.\n",
      "  loss = lambda prev, max_q_next, player, reward: F.mse_loss(sum(prev * player),\n"
     ]
    },
    {
     "name": "stdout",
     "output_type": "stream",
     "text": [
      "epoch 0, loss 5.00871, lr 0.001\n",
      "epoch 1, loss 5.10263, lr 0.001\n",
      "epoch 2, loss 5.28232, lr 0.001\n",
      "epoch 3, loss 5.75940, lr 0.001\n",
      "epoch 4, loss 5.30972, lr 0.001\n",
      "epoch 5, loss 5.55763, lr 0.001\n",
      "epoch 6, loss 5.71670, lr 0.0005\n",
      "epoch 7, loss 4.98524, lr 0.0005\n",
      "epoch 8, loss 4.75523, lr 0.0005\n",
      "epoch 9, loss 4.93433, lr 0.0005\n",
      "epoch 10, loss 4.75982, lr 0.0005\n",
      "epoch 11, loss 4.89775, lr 0.0005\n",
      "epoch 12, loss 4.88707, lr 0.0005\n",
      "epoch 13, loss 4.88698, lr 0.0005\n",
      "epoch 14, loss 4.65496, lr 0.0005\n",
      "epoch 15, loss 4.80616, lr 0.0005\n",
      "epoch 16, loss 4.62904, lr 0.0005\n",
      "epoch 17, loss 4.73090, lr 0.0005\n",
      "epoch 18, loss 4.58813, lr 0.0005\n",
      "epoch 19, loss 4.58007, lr 0.0005\n",
      "epoch 20, loss 4.37433, lr 0.0005\n",
      "epoch 21, loss 4.38348, lr 0.0005\n",
      "epoch 22, loss 4.26815, lr 0.0005\n",
      "epoch 23, loss 4.33075, lr 0.0005\n",
      "epoch 24, loss 4.36839, lr 0.0005\n",
      "epoch 25, loss 4.29413, lr 0.0005\n",
      "epoch 26, loss 4.34601, lr 0.0005\n",
      "epoch 27, loss 4.18287, lr 0.0005\n",
      "epoch 28, loss 4.23045, lr 0.0005\n",
      "epoch 29, loss 4.30595, lr 0.0005\n",
      "epoch 30, loss 4.36312, lr 0.0005\n",
      "epoch 31, loss 4.26911, lr 0.0005\n",
      "epoch 32, loss 4.20909, lr 0.0005\n",
      "epoch 33, loss 4.16289, lr 0.0005\n",
      "epoch 34, loss 4.41802, lr 0.0005\n",
      "epoch 35, loss 4.20584, lr 0.0005\n",
      "epoch 36, loss 4.21233, lr 0.0005\n",
      "epoch 37, loss 4.26369, lr 0.0005\n",
      "epoch 38, loss 4.40733, lr 0.0005\n",
      "epoch 39, loss 4.39044, lr 0.00025\n",
      "epoch 40, loss 4.15644, lr 0.00025\n",
      "epoch 41, loss 4.03945, lr 0.00025\n",
      "epoch 42, loss 4.01701, lr 0.00025\n",
      "epoch 43, loss 4.02048, lr 0.00025\n",
      "epoch 44, loss 4.03986, lr 0.00025\n",
      "epoch 45, loss 3.98623, lr 0.00025\n",
      "epoch 46, loss 3.99533, lr 0.00025\n",
      "epoch 47, loss 3.97600, lr 0.00025\n",
      "epoch 48, loss 4.02459, lr 0.00025\n",
      "epoch 49, loss 4.04552, lr 0.00025\n",
      "epoch 50, loss 3.98963, lr 0.00025\n",
      "epoch 51, loss 3.96634, lr 0.00025\n",
      "epoch 52, loss 3.97763, lr 0.00025\n",
      "epoch 53, loss 4.00125, lr 0.00025\n",
      "epoch 54, loss 3.95171, lr 0.00025\n",
      "epoch 55, loss 4.00579, lr 0.00025\n",
      "epoch 56, loss 4.00828, lr 0.00025\n",
      "epoch 57, loss 3.97681, lr 0.00025\n",
      "epoch 58, loss 3.99765, lr 0.00025\n",
      "epoch 59, loss 3.98507, lr 0.00025\n",
      "epoch 60, loss 3.95506, lr 0.000125\n",
      "epoch 61, loss 3.97817, lr 0.000125\n",
      "epoch 62, loss 3.88663, lr 0.000125\n",
      "epoch 63, loss 3.85773, lr 0.000125\n",
      "epoch 64, loss 3.95606, lr 0.000125\n",
      "epoch 65, loss 3.93530, lr 0.000125\n",
      "epoch 66, loss 3.92767, lr 0.000125\n",
      "epoch 67, loss 3.89398, lr 0.000125\n",
      "epoch 68, loss 3.86727, lr 0.000125\n",
      "epoch 69, loss 3.89140, lr 6.25e-05\n",
      "epoch 70, loss 3.86743, lr 6.25e-05\n",
      "epoch 71, loss 3.83281, lr 6.25e-05\n",
      "epoch 72, loss 3.85378, lr 6.25e-05\n",
      "epoch 73, loss 3.86870, lr 6.25e-05\n",
      "epoch 74, loss 3.86894, lr 6.25e-05\n",
      "epoch 75, loss 3.82273, lr 6.25e-05\n",
      "epoch 76, loss 3.82094, lr 6.25e-05\n",
      "epoch 77, loss 3.83083, lr 6.25e-05\n",
      "epoch 78, loss 3.84647, lr 6.25e-05\n",
      "epoch 79, loss 3.82204, lr 6.25e-05\n",
      "epoch 80, loss 3.85179, lr 6.25e-05\n",
      "epoch 81, loss 3.83773, lr 6.25e-05\n",
      "epoch 82, loss 3.82630, lr 3.125e-05\n",
      "epoch 83, loss 3.83563, lr 3.125e-05\n",
      "epoch 84, loss 3.82466, lr 3.125e-05\n",
      "epoch 85, loss 3.78938, lr 3.125e-05\n",
      "epoch 86, loss 3.81065, lr 3.125e-05\n",
      "epoch 87, loss 3.80284, lr 3.125e-05\n"
     ]
    }
   ],
   "source": [
    "agent = QLearningAgent(memories)\n",
    "agent.train(200)"
   ]
  }
 ],
 "metadata": {
  "kernelspec": {
   "display_name": ".env",
   "language": "python",
   "name": "python3"
  },
  "language_info": {
   "codemirror_mode": {
    "name": "ipython",
    "version": 3
   },
   "file_extension": ".py",
   "mimetype": "text/x-python",
   "name": "python",
   "nbconvert_exporter": "python",
   "pygments_lexer": "ipython3",
   "version": "3.13.2"
  }
 },
 "nbformat": 4,
 "nbformat_minor": 2
}
