{
 "cells": [
  {
   "cell_type": "code",
   "execution_count": null,
   "metadata": {},
   "outputs": [],
   "source": [
    "from agent import QLearningAgent\n",
    "from verify_data import FishGame, ParseError"
   ]
  },
  {
   "cell_type": "code",
   "execution_count": null,
   "metadata": {},
   "outputs": [],
   "source": [
    "import os\n",
    "import pickle\n",
    "\n",
    "if os.path.isfile('memories.pkl'):\n",
    "    with open('memories.pkl', 'rb') as f:\n",
    "        memories = pickle.load(f)\n",
    "else:\n",
    "    memories = []\n",
    "    for filename in os.listdir('data'):\n",
    "        filepath = os.path.join('data', filename)\n",
    "        with open(filepath, 'r') as f:\n",
    "            try:\n",
    "                print(f\"{filename}\")\n",
    "                game = FishGame(f.readlines())\n",
    "                for player in game.players:\n",
    "                    for _ in range(10):\n",
    "                        game.shuffle()\n",
    "                        memories.append(game.memory(player))\n",
    "            except ParseError as e:\n",
    "                print(f\"{filename}: {e}\")\n",
    "                break\n",
    "    with open('memories.pkl', 'wb') as f:\n",
    "        pickle.dump(memories, f)"
   ]
  },
  {
   "cell_type": "code",
   "execution_count": null,
   "metadata": {
    "notebookRunGroups": {
     "groupValue": "2"
    }
   },
   "outputs": [],
   "source": [
    "agent = QLearningAgent()\n",
    "agent.train_on_data(memories, 0, 50)"
   ]
  },
  {
   "cell_type": "code",
   "execution_count": null,
   "metadata": {},
   "outputs": [],
   "source": [
    "batch = agent.unpack_memory([memories[3][15]])\n",
    "agent.hand_predictor(agent.tensor(batch['state']), agent.action_masks(*batch['mask_dep'].values())['hands'])"
   ]
  },
  {
   "cell_type": "code",
   "execution_count": null,
   "metadata": {},
   "outputs": [],
   "source": [
    "from datetime import datetime\n",
    "\n",
    "os.makedirs('models', exist_ok=True)\n",
    "model_path = f'models/fish_agent_{datetime.now().strftime(\"%Y%m%d_%H%M%S\")}.pth'\n",
    "agent.save_model(model_path)"
   ]
  },
  {
   "cell_type": "code",
   "execution_count": null,
   "metadata": {},
   "outputs": [],
   "source": [
    "agent = QLearningAgent() \n",
    "agent.load_model('models/fish_agent_20250417_192317.pth')"
   ]
  },
  {
   "cell_type": "code",
   "execution_count": null,
   "metadata": {},
   "outputs": [],
   "source": [
    "agent.train_self_play(2000, update_rate=1, hand_epochs=5, q_epochs=5, path='models/fish_agent_20250417_192317.pth')"
   ]
  }
 ],
 "metadata": {
  "kernelspec": {
   "display_name": ".env",
   "language": "python",
   "name": "python3"
  },
  "language_info": {
   "codemirror_mode": {
    "name": "ipython",
    "version": 3
   },
   "file_extension": ".py",
   "mimetype": "text/x-python",
   "name": "python",
   "nbconvert_exporter": "python",
   "pygments_lexer": "ipython3",
   "version": "3.13.2"
  }
 },
 "nbformat": 4,
 "nbformat_minor": 2
}
