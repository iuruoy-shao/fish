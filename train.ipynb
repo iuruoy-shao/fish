{
 "cells": [
  {
   "cell_type": "code",
   "execution_count": 2,
   "metadata": {},
   "outputs": [],
   "source": [
    "from agent import QLearningAgent\n",
    "from verify_data import FishGame, ParseError"
   ]
  },
  {
   "cell_type": "code",
   "execution_count": null,
   "metadata": {},
   "outputs": [
    {
     "name": "stdout",
     "output_type": "stream",
     "text": [
      "12-3_11:12.txt\n",
      "1-15_11:15.txt\n",
      "12-3_11:30.txt\n",
      "12-6_11:08.txt\n",
      "12-4_11:11.txt\n",
      "12-3_14:27.txt\n",
      "12-10_11:07.txt\n",
      "12-3_15:27.txt\n",
      "12-3_14:05.txt\n"
     ]
    }
   ],
   "source": [
    "import os\n",
    "import pickle\n",
    "import torch\n",
    "import multiprocessing as mp\n",
    "\n",
    "def process_file(filename, data_dir='data'):\n",
    "    filepath = os.path.join(data_dir, filename)\n",
    "    file_memories = []\n",
    "    try:\n",
    "        with open(filepath, 'r') as f:\n",
    "            print(f\"{filename}\")\n",
    "            game = FishGame(f.readlines())\n",
    "            for player in game.players:\n",
    "                for _ in range(100):\n",
    "                    game.shuffle()\n",
    "                    file_memories.append(game.memory(player))\n",
    "        return file_memories\n",
    "    except ParseError as e:\n",
    "        print(f\"{filename}: {e}\")\n",
    "        return []\n",
    "\n",
    "if os.path.isfile('memories_extended.pkl'):\n",
    "    with open('memories_extended.pkl', 'rb') as f:\n",
    "        memories = pickle.load(f)\n",
    "else:\n",
    "    memories = []\n",
    "    filenames = os.listdir('data')\n",
    "    \n",
    "    if torch.cuda.is_available():\n",
    "        num_processes = min(mp.cpu_count(), 8)\n",
    "        with mp.Pool(processes=num_processes) as pool:\n",
    "            results = pool.map(process_file, filenames)\n",
    "        for result in results:\n",
    "            memories.extend(result)\n",
    "    else:\n",
    "        for filename in filenames:\n",
    "            filepath = os.path.join('data', filename)\n",
    "            with open(filepath, 'r') as f:\n",
    "                try:\n",
    "                    print(f\"{filename}\")\n",
    "                    game = FishGame(f.readlines())\n",
    "                    for player in game.players:\n",
    "                        for _ in range(100):\n",
    "                            game.shuffle()\n",
    "                            memories.append(game.memory(player))\n",
    "                except ParseError as e:\n",
    "                    print(f\"{filename}: {e}\")\n",
    "                    break\n",
    "    with open('memories_extended.pkl', 'wb') as f:\n",
    "        pickle.dump(memories, f)"
   ]
  },
  {
   "cell_type": "code",
   "execution_count": null,
   "metadata": {},
   "outputs": [],
   "source": [
    "import pickle\n",
    "with open('call_memories.pkl', 'rb') as f:\n",
    "    call_memories = pickle.load(f)\n",
    "with open('stored_memories.pkl', 'rb') as f:\n",
    "    stored_memories = pickle.load(f)"
   ]
  },
  {
   "cell_type": "code",
   "execution_count": 2,
   "metadata": {},
   "outputs": [
    {
     "name": "stdout",
     "output_type": "stream",
     "text": [
      "Memory loaded in 0.0 seconds\n"
     ]
    },
    {
     "name": "stderr",
     "output_type": "stream",
     "text": [
      "Training Q-Network epoch 9 train loss 0.24511 test loss 0.33334 lr 0.0008: 100%|██████████| 10/10 [00:01<00:00,  6.46it/s]\n"
     ]
    }
   ],
   "source": [
    "from agent import QLearningAgent\n",
    "import pickle\n",
    "with open('test_memories.pkl', 'rb') as f:\n",
    "    call_memories = pickle.load(f)\n",
    "agent = QLearningAgent()\n",
    "agent.train_on_data(call_memories[::100], 10, 0)"
   ]
  },
  {
   "cell_type": "code",
   "execution_count": null,
   "metadata": {},
   "outputs": [],
   "source": [
    "agent = QLearningAgent()\n",
    "agent.load_model('models/fish_agent.pth')"
   ]
  },
  {
   "cell_type": "code",
   "execution_count": null,
   "metadata": {},
   "outputs": [],
   "source": [
    "agent.train_on_data(stored_memories[::10], 1, 0)"
   ]
  },
  {
   "cell_type": "code",
   "execution_count": null,
   "metadata": {},
   "outputs": [],
   "source": [
    "from datetime import datetime\n",
    "\n",
    "os.makedirs('models', exist_ok=True)\n",
    "model_path = f'models/fish_agent_{datetime.now().strftime(\"%Y%m%d_%H%M%S\")}.pth'\n",
    "agent.save_model(model_path)"
   ]
  }
 ],
 "metadata": {
  "kernelspec": {
   "display_name": ".venv",
   "language": "python",
   "name": "python3"
  },
  "language_info": {
   "codemirror_mode": {
    "name": "ipython",
    "version": 3
   },
   "file_extension": ".py",
   "mimetype": "text/x-python",
   "name": "python",
   "nbconvert_exporter": "python",
   "pygments_lexer": "ipython3",
   "version": "3.13.3"
  }
 },
 "nbformat": 4,
 "nbformat_minor": 2
}
