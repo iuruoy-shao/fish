{
 "cells": [
  {
   "cell_type": "code",
   "execution_count": 1,
   "metadata": {},
   "outputs": [],
   "source": [
    "from nn import QLearningAgent, QNetwork\n",
    "from verify_data import FishGame, ParseError"
   ]
  },
  {
   "cell_type": "code",
   "execution_count": 2,
   "metadata": {},
   "outputs": [
    {
     "name": "stdout",
     "output_type": "stream",
     "text": [
      "12-10_11:07.txt\n",
      "12-3_14:05.txt\n",
      "12-3_11:30.txt\n",
      "12-3_14:27.txt\n",
      "12-6_11:08.txt\n",
      "12-3_11:12.txt\n",
      "1-15_11:15.txt\n"
     ]
    }
   ],
   "source": [
    "import os\n",
    "\n",
    "memories = []\n",
    "for filename in os.listdir('data'):\n",
    "    filepath = os.path.join('data', filename)\n",
    "    with open(filepath, 'r') as f:\n",
    "        try:\n",
    "            print(f\"{filename}\")\n",
    "            game = FishGame(f.readlines())\n",
    "            for player in game.players:\n",
    "                memories += game.memory(player)\n",
    "        except ParseError as e:\n",
    "            print(f\"{filename}: {e}\")\n",
    "            break"
   ]
  },
  {
   "cell_type": "code",
   "execution_count": null,
   "metadata": {},
   "outputs": [
    {
     "name": "stderr",
     "output_type": "stream",
     "text": [
      "/Users/Yourui/Documents/Fish/nn.py:63: UserWarning: Creating a tensor from a list of numpy.ndarrays is extremely slow. Please consider converting the list to a single numpy.ndarray with numpy.array() before converting to a tensor. (Triggered internally at /Users/runner/work/pytorch/pytorch/pytorch/torch/csrc/utils/tensor_new.cpp:257.)\n",
      "  return torch.FloatTensor(x).to(self.device)\n",
      "/Users/Yourui/Documents/Fish/nn.py:34: UserWarning: Implicit dimension choice for softmax has been deprecated. Change the call to include dim=X as an argument.\n",
      "  'call_set': F.softmax(call_set.masked_fill(~action_masks['call_set'], -1e9)),\n",
      "/Users/Yourui/Documents/Fish/nn.py:36: UserWarning: Implicit dimension choice for softmax has been deprecated. Change the call to include dim=X as an argument.\n",
      "  'ask_person': F.softmax(ask_person.masked_fill(~action_masks['ask_person'], -1e9)),\n",
      "/Users/Yourui/Documents/Fish/nn.py:37: UserWarning: Implicit dimension choice for softmax has been deprecated. Change the call to include dim=X as an argument.\n",
      "  'ask_set': F.softmax(ask_set.masked_fill(~action_masks['ask_set'], -1e9)),\n",
      "/Users/Yourui/Documents/Fish/nn.py:38: UserWarning: Implicit dimension choice for softmax has been deprecated. Change the call to include dim=X as an argument.\n",
      "  'ask_card': F.softmax(ask_card),\n",
      "/Users/Yourui/Documents/Fish/nn.py:79: UserWarning: Using a target size (torch.Size([1, 1])) that is different to the input size (torch.Size([1])). This will likely lead to incorrect results due to broadcasting. Please ensure they have the same size.\n",
      "  loss = lambda prev, next, player, reward: F.mse_loss(sum(prev * player),\n",
      "/Users/Yourui/Documents/Fish/nn.py:79: UserWarning: Using a target size (torch.Size([1, 1])) that is different to the input size (torch.Size([])). This will likely lead to incorrect results due to broadcasting. Please ensure they have the same size.\n",
      "  loss = lambda prev, next, player, reward: F.mse_loss(sum(prev * player),\n",
      "/Users/Yourui/Documents/Fish/nn.py:79: UserWarning: Using a target size (torch.Size([1, 1])) that is different to the input size (torch.Size([4])). This will likely lead to incorrect results due to broadcasting. Please ensure they have the same size.\n",
      "  loss = lambda prev, next, player, reward: F.mse_loss(sum(prev * player),\n"
     ]
    },
    {
     "name": "stdout",
     "output_type": "stream",
     "text": [
      "epoch 0, loss 2007.703357219696\n",
      "epoch 1, loss 2359.77827167511\n"
     ]
    }
   ],
   "source": [
    "agent = QLearningAgent(memories)\n",
    "agent.train(50)"
   ]
  }
 ],
 "metadata": {
  "kernelspec": {
   "display_name": ".env",
   "language": "python",
   "name": "python3"
  },
  "language_info": {
   "codemirror_mode": {
    "name": "ipython",
    "version": 3
   },
   "file_extension": ".py",
   "mimetype": "text/x-python",
   "name": "python",
   "nbconvert_exporter": "python",
   "pygments_lexer": "ipython3",
   "version": "3.13.2"
  }
 },
 "nbformat": 4,
 "nbformat_minor": 2
}
