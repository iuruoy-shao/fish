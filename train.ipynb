{
 "cells": [
  {
   "cell_type": "code",
   "execution_count": 1,
   "metadata": {},
   "outputs": [],
   "source": [
    "from agent import QLearningAgent\n",
    "from verify_data import FishGame, ParseError"
   ]
  },
  {
   "cell_type": "code",
   "execution_count": 2,
   "metadata": {},
   "outputs": [
    {
     "name": "stdout",
     "output_type": "stream",
     "text": [
      "12-3_15:27.txt\n",
      "12-10_11:07.txt\n",
      "12-3_14:05.txt\n",
      "12-3_11:30.txt\n",
      "12-3_14:27.txt\n",
      "12-6_11:08.txt\n",
      "12-3_11:12.txt\n",
      "12-4_11:11.txt\n",
      "1-15_11:15.txt\n"
     ]
    }
   ],
   "source": [
    "import os\n",
    "\n",
    "memories = []\n",
    "for filename in os.listdir('data'):\n",
    "    filepath = os.path.join('data', filename)\n",
    "    with open(filepath, 'r') as f:\n",
    "        try:\n",
    "            print(f\"{filename}\")\n",
    "            game = FishGame(f.readlines())\n",
    "            for player in game.players:\n",
    "                memories += game.memory(player)\n",
    "        except ParseError as e:\n",
    "            print(f\"{filename}: {e}\")\n",
    "            break"
   ]
  },
  {
   "cell_type": "code",
   "execution_count": 3,
   "metadata": {
    "notebookRunGroups": {
     "groupValue": "2"
    }
   },
   "outputs": [
    {
     "name": "stderr",
     "output_type": "stream",
     "text": [
      "/Users/Yourui/Documents/Fish/.env/lib/python3.13/site-packages/torch/optim/lr_scheduler.py:62: UserWarning: The verbose parameter is deprecated. Please use get_last_lr() to access the learning rate.\n",
      "  warnings.warn(\n",
      "/Users/Yourui/Documents/Fish/agent.py:72: UserWarning: Creating a tensor from a list of numpy.ndarrays is extremely slow. Please consider converting the list to a single numpy.ndarray with numpy.array() before converting to a tensor. (Triggered internally at /Users/runner/work/pytorch/pytorch/pytorch/torch/csrc/utils/tensor_new.cpp:257.)\n",
      "  return torch.FloatTensor(x).to(self.device)\n",
      "/Users/Yourui/Documents/Fish/agent.py:47: UserWarning: Implicit dimension choice for softmax has been deprecated. Change the call to include dim=X as an argument.\n",
      "  'ask_card': F.softmax(ask_card),\n",
      "/Users/Yourui/Documents/Fish/agent.py:93: UserWarning: Using a target size (torch.Size([1])) that is different to the input size (torch.Size([])). This will likely lead to incorrect results due to broadcasting. Please ensure they have the same size.\n",
      "  loss = lambda prev, max_q_next, player, reward: F.mse_loss(sum(prev * player),\n",
      "/Users/Yourui/Documents/Fish/agent.py:93: UserWarning: Using a target size (torch.Size([1])) that is different to the input size (torch.Size([4])). This will likely lead to incorrect results due to broadcasting. Please ensure they have the same size.\n",
      "  loss = lambda prev, max_q_next, player, reward: F.mse_loss(sum(prev * player),\n"
     ]
    },
    {
     "name": "stdout",
     "output_type": "stream",
     "text": [
      "epoch 0, loss 4.05939, lr 0.001\n",
      "epoch 1, loss 3.27221, lr 0.001\n",
      "epoch 2, loss 3.06853, lr 0.001\n",
      "epoch 3, loss 3.09898, lr 0.001\n",
      "epoch 4, loss 3.57741, lr 0.001\n",
      "epoch 5, loss 2.87866, lr 0.001\n",
      "epoch 6, loss 2.62066, lr 0.001\n",
      "epoch 7, loss 2.23506, lr 0.001\n",
      "epoch 8, loss 2.15655, lr 0.001\n",
      "epoch 9, loss 2.06953, lr 0.001\n",
      "epoch 10, loss 1.94519, lr 0.001\n",
      "epoch 11, loss 1.98701, lr 0.001\n",
      "epoch 12, loss 1.99226, lr 0.001\n",
      "epoch 13, loss 2.03960, lr 0.001\n",
      "epoch 14, loss 1.98626, lr 0.001\n",
      "epoch 15, loss 1.97667, lr 0.001\n",
      "epoch 16, loss 1.90515, lr 0.001\n",
      "epoch 17, loss 1.93229, lr 0.001\n",
      "epoch 18, loss 1.91518, lr 0.001\n",
      "epoch 19, loss 1.96292, lr 0.001\n",
      "epoch 20, loss 1.90613, lr 0.001\n",
      "epoch 21, loss 1.89529, lr 0.001\n",
      "epoch 22, loss 1.88928, lr 0.001\n",
      "epoch 23, loss 1.90747, lr 0.001\n",
      "epoch 24, loss 1.93551, lr 0.001\n",
      "epoch 25, loss 1.84701, lr 0.001\n",
      "epoch 26, loss 1.87153, lr 0.001\n",
      "epoch 27, loss 1.87701, lr 0.001\n",
      "epoch 28, loss 1.88308, lr 0.001\n",
      "epoch 29, loss 1.85960, lr 0.001\n",
      "epoch 30, loss 1.88337, lr 0.001\n",
      "epoch 31, loss 1.95546, lr 0.0008\n",
      "epoch 32, loss 1.89145, lr 0.0008\n",
      "epoch 33, loss 1.84543, lr 0.0008\n",
      "epoch 34, loss 1.81940, lr 0.0008\n",
      "epoch 35, loss 1.78292, lr 0.0008\n",
      "epoch 36, loss 1.81250, lr 0.0008\n",
      "epoch 37, loss 1.78780, lr 0.0008\n",
      "epoch 38, loss 1.75439, lr 0.0008\n",
      "epoch 39, loss 1.74757, lr 0.0008\n",
      "epoch 40, loss 1.73731, lr 0.0008\n",
      "epoch 41, loss 1.80113, lr 0.0008\n",
      "epoch 42, loss 1.75836, lr 0.0008\n",
      "epoch 43, loss 1.80214, lr 0.0008\n",
      "epoch 44, loss 1.85224, lr 0.0008\n",
      "epoch 45, loss 1.83075, lr 0.0008\n",
      "epoch 46, loss 1.77724, lr 0.00064\n",
      "epoch 47, loss 1.75224, lr 0.00064\n",
      "epoch 48, loss 1.71157, lr 0.00064\n",
      "epoch 49, loss 1.71909, lr 0.00064\n",
      "epoch 50, loss 1.73800, lr 0.00064\n",
      "epoch 51, loss 1.71017, lr 0.00064\n",
      "epoch 52, loss 1.71006, lr 0.00064\n",
      "epoch 53, loss 1.66134, lr 0.00064\n",
      "epoch 54, loss 1.70715, lr 0.00064\n",
      "epoch 55, loss 1.69359, lr 0.00064\n",
      "epoch 56, loss 1.66693, lr 0.00064\n",
      "epoch 57, loss 1.64619, lr 0.00064\n",
      "epoch 58, loss 1.64335, lr 0.00064\n",
      "epoch 59, loss 1.63407, lr 0.00064\n",
      "epoch 60, loss 1.64743, lr 0.00064\n",
      "epoch 61, loss 1.65675, lr 0.00064\n",
      "epoch 62, loss 1.70367, lr 0.00064\n",
      "epoch 63, loss 1.75609, lr 0.00064\n",
      "epoch 64, loss 1.78639, lr 0.00064\n",
      "epoch 65, loss 1.73616, lr 0.0005120000000000001\n",
      "epoch 66, loss 1.70727, lr 0.0005120000000000001\n",
      "epoch 67, loss 1.65726, lr 0.0005120000000000001\n",
      "epoch 68, loss 1.65219, lr 0.0005120000000000001\n",
      "epoch 69, loss 1.63728, lr 0.0005120000000000001\n",
      "epoch 70, loss 1.62125, lr 0.0005120000000000001\n",
      "epoch 71, loss 1.60533, lr 0.0005120000000000001\n",
      "epoch 72, loss 1.62212, lr 0.0005120000000000001\n",
      "epoch 73, loss 1.60309, lr 0.0005120000000000001\n",
      "epoch 74, loss 1.61369, lr 0.0005120000000000001\n",
      "epoch 75, loss 1.61149, lr 0.0005120000000000001\n",
      "epoch 76, loss 1.58506, lr 0.0005120000000000001\n",
      "epoch 77, loss 1.60804, lr 0.0005120000000000001\n",
      "epoch 78, loss 1.63297, lr 0.0005120000000000001\n",
      "epoch 79, loss 1.64867, lr 0.0005120000000000001\n",
      "epoch 80, loss 1.66116, lr 0.0005120000000000001\n",
      "epoch 81, loss 1.68717, lr 0.0005120000000000001\n",
      "epoch 82, loss 1.66654, lr 0.0004096000000000001\n",
      "epoch 83, loss 1.67306, lr 0.0004096000000000001\n",
      "epoch 84, loss 1.67570, lr 0.0004096000000000001\n",
      "epoch 85, loss 1.64915, lr 0.0004096000000000001\n",
      "epoch 86, loss 1.66119, lr 0.0004096000000000001\n",
      "epoch 87, loss 1.64736, lr 0.0004096000000000001\n",
      "epoch 88, loss 1.62907, lr 0.0003276800000000001\n",
      "epoch 89, loss 1.60221, lr 0.0003276800000000001\n",
      "epoch 90, loss 1.59764, lr 0.0003276800000000001\n",
      "epoch 91, loss 1.60425, lr 0.0003276800000000001\n",
      "epoch 92, loss 1.61394, lr 0.0003276800000000001\n",
      "epoch 93, loss 1.58012, lr 0.0003276800000000001\n",
      "epoch 94, loss 1.60024, lr 0.0003276800000000001\n",
      "epoch 95, loss 1.59790, lr 0.0003276800000000001\n",
      "epoch 96, loss 1.62240, lr 0.0003276800000000001\n",
      "epoch 97, loss 1.60484, lr 0.0003276800000000001\n",
      "epoch 98, loss 1.60206, lr 0.0003276800000000001\n",
      "epoch 99, loss 1.59734, lr 0.0002621440000000001\n"
     ]
    }
   ],
   "source": [
    "agent = QLearningAgent()\n",
    "agent.train_on_data(memories, 100)"
   ]
  },
  {
   "cell_type": "code",
   "execution_count": 4,
   "metadata": {},
   "outputs": [
    {
     "name": "stdout",
     "output_type": "stream",
     "text": [
      "Model saved to models/fish_agent_20250324_150719.pth\n"
     ]
    }
   ],
   "source": [
    "import os\n",
    "from datetime import datetime\n",
    "\n",
    "os.makedirs('models', exist_ok=True)\n",
    "model_path = f'models/fish_agent_{datetime.now().strftime(\"%Y%m%d_%H%M%S\")}.pth'\n",
    "agent.save_model(model_path)"
   ]
  },
  {
   "cell_type": "code",
   "execution_count": 7,
   "metadata": {},
   "outputs": [
    {
     "data": {
      "text/plain": [
       "True"
      ]
     },
     "execution_count": 7,
     "metadata": {},
     "output_type": "execute_result"
    }
   ],
   "source": [
    "agent = QLearningAgent() \n",
    "agent.load_model('models/fish_agent_20250319_123306.pth')"
   ]
  },
  {
   "cell_type": "code",
   "execution_count": 8,
   "metadata": {},
   "outputs": [
    {
     "data": {
      "text/plain": [
       "{'call': tensor([[0.3735, 0.6265]], device='mps:0', grad_fn=<SoftmaxBackward0>),\n",
       " 'call_set': tensor([[0.0683, 0.3328, 0.1711, 0.0416, 0.1856, 0.0393, 0.1124, 0.0488, 0.0000]],\n",
       "        device='mps:0', grad_fn=<SoftmaxBackward0>),\n",
       " 'call_cards': tensor([[[0.2083, 0.2714, 0.2998, 0.2205],\n",
       "          [0.1354, 0.2199, 0.3274, 0.3173],\n",
       "          [0.4047, 0.3686, 0.0762, 0.1506],\n",
       "          [0.1540, 0.3419, 0.0747, 0.4293],\n",
       "          [0.3549, 0.1006, 0.3225, 0.2219],\n",
       "          [0.1586, 0.2986, 0.3635, 0.1793]]], device='mps:0',\n",
       "        grad_fn=<SoftmaxBackward0>),\n",
       " 'ask_person': tensor([[0.2090, 0.1333, 0.6202, 0.0376]], device='mps:0',\n",
       "        grad_fn=<SoftmaxBackward0>),\n",
       " 'ask_set': tensor([[0.0000, 0.1338, 0.0000, 0.6462, 0.0475, 0.1345, 0.0380, 0.0000, 0.0000]],\n",
       "        device='mps:0', grad_fn=<SoftmaxBackward0>),\n",
       " 'ask_card': tensor([[2.7193e-01, 9.0935e-02, 6.2667e-01, 3.1250e-06, 1.6242e-06, 1.0456e-02]],\n",
       "        device='mps:0', grad_fn=<SoftmaxBackward0>)}"
      ]
     },
     "execution_count": 8,
     "metadata": {},
     "output_type": "execute_result"
    }
   ],
   "source": [
    "game = FishGame(open('data/1-15_11:15.txt', 'r').readlines())\n",
    "player = 'PB'\n",
    "test_data = agent.unpack_batch(game.memory(player)[1:2])\n",
    "agent.q_network(agent.tensor(test_data['state']), \n",
    "                agent.action_masks(*test_data['mask_dep'].values()))"
   ]
  }
 ],
 "metadata": {
  "kernelspec": {
   "display_name": ".env",
   "language": "python",
   "name": "python3"
  },
  "language_info": {
   "codemirror_mode": {
    "name": "ipython",
    "version": 3
   },
   "file_extension": ".py",
   "mimetype": "text/x-python",
   "name": "python",
   "nbconvert_exporter": "python",
   "pygments_lexer": "ipython3",
   "version": "3.13.2"
  }
 },
 "nbformat": 4,
 "nbformat_minor": 2
}
