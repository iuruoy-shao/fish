{
 "cells": [
  {
   "cell_type": "code",
   "execution_count": null,
   "metadata": {},
   "outputs": [],
   "source": [
    "from nn import QLearningAgent\n",
    "from verify_data import FishGame, ParseError"
   ]
  },
  {
   "cell_type": "code",
   "execution_count": 2,
   "metadata": {},
   "outputs": [
    {
     "name": "stdout",
     "output_type": "stream",
     "text": [
      "12-3_15:27.txt\n",
      "12-10_11:07.txt\n",
      "12-3_14:05.txt\n",
      "12-3_11:30.txt\n",
      "12-3_14:27.txt\n",
      "12-6_11:08.txt\n",
      "12-3_11:12.txt\n",
      "1-15_11:15.txt\n"
     ]
    }
   ],
   "source": [
    "import os\n",
    "\n",
    "memories = []\n",
    "for filename in os.listdir('data'):\n",
    "    filepath = os.path.join('data', filename)\n",
    "    with open(filepath, 'r') as f:\n",
    "        try:\n",
    "            print(f\"{filename}\")\n",
    "            game = FishGame(f.readlines())\n",
    "            for player in game.players:\n",
    "                memories += game.memory(player)\n",
    "        except ParseError as e:\n",
    "            print(f\"{filename}: {e}\")\n",
    "            break"
   ]
  },
  {
   "cell_type": "code",
   "execution_count": 3,
   "metadata": {},
   "outputs": [],
   "source": [
    "# with open('data/1-15_11:15.txt', 'r') as f:\n",
    "    # game = FishGame(f.readlines())"
   ]
  },
  {
   "cell_type": "code",
   "execution_count": 4,
   "metadata": {
    "notebookRunGroups": {
     "groupValue": "2"
    }
   },
   "outputs": [
    {
     "name": "stderr",
     "output_type": "stream",
     "text": [
      "/Users/Yourui/Documents/Fish/.env/lib/python3.13/site-packages/torch/optim/lr_scheduler.py:62: UserWarning: The verbose parameter is deprecated. Please use get_last_lr() to access the learning rate.\n",
      "  warnings.warn(\n",
      "/Users/Yourui/Documents/Fish/nn.py:67: UserWarning: Creating a tensor from a list of numpy.ndarrays is extremely slow. Please consider converting the list to a single numpy.ndarray with numpy.array() before converting to a tensor. (Triggered internally at /Users/runner/work/pytorch/pytorch/pytorch/torch/csrc/utils/tensor_new.cpp:257.)\n",
      "  return torch.FloatTensor(x).to(self.device)\n",
      "/Users/Yourui/Documents/Fish/nn.py:41: UserWarning: Implicit dimension choice for softmax has been deprecated. Change the call to include dim=X as an argument.\n",
      "  'ask_card': F.softmax(ask_card),\n",
      "/Users/Yourui/Documents/Fish/nn.py:88: UserWarning: Using a target size (torch.Size([1])) that is different to the input size (torch.Size([])). This will likely lead to incorrect results due to broadcasting. Please ensure they have the same size.\n",
      "  loss = lambda prev, max_q_next, player, reward: F.mse_loss(sum(prev * player),\n",
      "/Users/Yourui/Documents/Fish/nn.py:88: UserWarning: Using a target size (torch.Size([1])) that is different to the input size (torch.Size([4])). This will likely lead to incorrect results due to broadcasting. Please ensure they have the same size.\n",
      "  loss = lambda prev, max_q_next, player, reward: F.mse_loss(sum(prev * player),\n"
     ]
    },
    {
     "name": "stdout",
     "output_type": "stream",
     "text": [
      "epoch 0, loss 4.46687, lr 0.001\n",
      "epoch 1, loss 4.33881, lr 0.001\n",
      "epoch 2, loss 4.50418, lr 0.001\n",
      "epoch 3, loss 4.92376, lr 0.001\n",
      "epoch 4, loss 4.90172, lr 0.001\n",
      "epoch 5, loss 5.22507, lr 0.001\n",
      "epoch 6, loss 5.13843, lr 0.001\n",
      "epoch 7, loss 5.06588, lr 0.0008\n",
      "epoch 8, loss 4.92641, lr 0.0008\n",
      "epoch 9, loss 4.76103, lr 0.0008\n",
      "epoch 10, loss 4.62856, lr 0.0008\n",
      "epoch 11, loss 4.62024, lr 0.0008\n",
      "epoch 12, loss 4.48549, lr 0.0008\n",
      "epoch 13, loss 4.49840, lr 0.00064\n",
      "epoch 14, loss 4.28706, lr 0.00064\n",
      "epoch 15, loss 4.20624, lr 0.00064\n",
      "epoch 16, loss 4.16377, lr 0.00064\n",
      "epoch 17, loss 4.15654, lr 0.00064\n",
      "epoch 18, loss 4.17171, lr 0.00064\n",
      "epoch 19, loss 4.11493, lr 0.00064\n",
      "epoch 20, loss 4.09533, lr 0.00064\n",
      "epoch 21, loss 4.11395, lr 0.00064\n",
      "epoch 22, loss 4.15494, lr 0.00064\n",
      "epoch 23, loss 4.04040, lr 0.00064\n",
      "epoch 24, loss 4.11128, lr 0.00064\n",
      "epoch 25, loss 4.05367, lr 0.00064\n",
      "epoch 26, loss 4.13152, lr 0.00064\n",
      "epoch 27, loss 4.08295, lr 0.00064\n",
      "epoch 28, loss 3.93996, lr 0.00064\n",
      "epoch 29, loss 3.89377, lr 0.00064\n",
      "epoch 30, loss 4.01523, lr 0.00064\n",
      "epoch 31, loss 4.04555, lr 0.00064\n",
      "epoch 32, loss 3.87296, lr 0.00064\n",
      "epoch 33, loss 3.93695, lr 0.00064\n",
      "epoch 34, loss 3.91780, lr 0.00064\n",
      "epoch 35, loss 3.84553, lr 0.00064\n",
      "epoch 36, loss 3.95065, lr 0.00064\n",
      "epoch 37, loss 3.79886, lr 0.00064\n",
      "epoch 38, loss 3.89326, lr 0.00064\n",
      "epoch 39, loss 3.83514, lr 0.00064\n",
      "epoch 40, loss 3.91007, lr 0.00064\n",
      "epoch 41, loss 3.87970, lr 0.00064\n",
      "epoch 42, loss 3.85446, lr 0.00064\n",
      "epoch 43, loss 3.90456, lr 0.0005120000000000001\n",
      "epoch 44, loss 3.82205, lr 0.0005120000000000001\n",
      "epoch 45, loss 3.82057, lr 0.0005120000000000001\n",
      "epoch 46, loss 3.76020, lr 0.0005120000000000001\n",
      "epoch 47, loss 3.70661, lr 0.0005120000000000001\n",
      "epoch 48, loss 3.68956, lr 0.0005120000000000001\n"
     ]
    },
    {
     "ename": "KeyboardInterrupt",
     "evalue": "",
     "output_type": "error",
     "traceback": [
      "\u001b[31m---------------------------------------------------------------------------\u001b[39m",
      "\u001b[31mKeyboardInterrupt\u001b[39m                         Traceback (most recent call last)",
      "\u001b[36mCell\u001b[39m\u001b[36m \u001b[39m\u001b[32mIn[4]\u001b[39m\u001b[32m, line 2\u001b[39m\n\u001b[32m      1\u001b[39m agent = QLearningAgent(memories)\n\u001b[32m----> \u001b[39m\u001b[32m2\u001b[39m \u001b[43magent\u001b[49m\u001b[43m.\u001b[49m\u001b[43mtrain\u001b[49m\u001b[43m(\u001b[49m\u001b[32;43m200\u001b[39;49m\u001b[43m)\u001b[49m\n",
      "\u001b[36mFile \u001b[39m\u001b[32m~/Documents/Fish/nn.py:137\u001b[39m, in \u001b[36mQLearningAgent.train\u001b[39m\u001b[34m(self, n_epochs)\u001b[39m\n\u001b[32m    135\u001b[39m batch = \u001b[38;5;28mself\u001b[39m.unpack_batch(\u001b[38;5;28mself\u001b[39m.memory[i:i+\u001b[38;5;28mself\u001b[39m.batch_size])\n\u001b[32m    136\u001b[39m current_q = \u001b[38;5;28mself\u001b[39m.q_network(\u001b[38;5;28mself\u001b[39m.tensor(batch[\u001b[33m'\u001b[39m\u001b[33mstate\u001b[39m\u001b[33m'\u001b[39m]), \u001b[38;5;28mself\u001b[39m.action_masks(*batch[\u001b[33m'\u001b[39m\u001b[33mmask_dep\u001b[39m\u001b[33m'\u001b[39m].values()))\n\u001b[32m--> \u001b[39m\u001b[32m137\u001b[39m next_q = \u001b[38;5;28mself\u001b[39m.q_network(\u001b[38;5;28;43mself\u001b[39;49m\u001b[43m.\u001b[49m\u001b[43mtensor\u001b[49m\u001b[43m(\u001b[49m\u001b[43mbatch\u001b[49m\u001b[43m[\u001b[49m\u001b[33;43m'\u001b[39;49m\u001b[33;43mnext_state\u001b[39;49m\u001b[33;43m'\u001b[39;49m\u001b[43m]\u001b[49m\u001b[43m)\u001b[49m, \u001b[38;5;28mself\u001b[39m.action_masks(*batch[\u001b[33m'\u001b[39m\u001b[33mmask_dep\u001b[39m\u001b[33m'\u001b[39m].values()))\n\u001b[32m    139\u001b[39m loss = \u001b[38;5;28mself\u001b[39m.q_loss(current_q, next_q, batch[\u001b[33m'\u001b[39m\u001b[33maction\u001b[39m\u001b[33m'\u001b[39m], batch[\u001b[33m'\u001b[39m\u001b[33mreward\u001b[39m\u001b[33m'\u001b[39m])\n\u001b[32m    140\u001b[39m total_loss += loss.item()\n",
      "\u001b[36mFile \u001b[39m\u001b[32m~/Documents/Fish/nn.py:67\u001b[39m, in \u001b[36mQLearningAgent.tensor\u001b[39m\u001b[34m(self, x, as_bool)\u001b[39m\n\u001b[32m     65\u001b[39m \u001b[38;5;28;01mif\u001b[39;00m as_bool:\n\u001b[32m     66\u001b[39m     \u001b[38;5;28;01mreturn\u001b[39;00m torch.BoolTensor(x).to(\u001b[38;5;28mself\u001b[39m.device)\n\u001b[32m---> \u001b[39m\u001b[32m67\u001b[39m \u001b[38;5;28;01mreturn\u001b[39;00m \u001b[43mtorch\u001b[49m\u001b[43m.\u001b[49m\u001b[43mFloatTensor\u001b[49m\u001b[43m(\u001b[49m\u001b[43mx\u001b[49m\u001b[43m)\u001b[49m.to(\u001b[38;5;28mself\u001b[39m.device)\n",
      "\u001b[31mKeyboardInterrupt\u001b[39m: "
     ]
    }
   ],
   "source": [
    "agent = QLearningAgent(memories)\n",
    "agent.train(200)"
   ]
  }
 ],
 "metadata": {
  "kernelspec": {
   "display_name": ".env",
   "language": "python",
   "name": "python3"
  },
  "language_info": {
   "codemirror_mode": {
    "name": "ipython",
    "version": 3
   },
   "file_extension": ".py",
   "mimetype": "text/x-python",
   "name": "python",
   "nbconvert_exporter": "python",
   "pygments_lexer": "ipython3",
   "version": "3.13.2"
  }
 },
 "nbformat": 4,
 "nbformat_minor": 2
}
